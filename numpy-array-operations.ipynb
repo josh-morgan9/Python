{
 "cells": [
  {
   "cell_type": "markdown",
   "metadata": {},
   "source": [
    "# 5 data analysis functions in Numpy\n",
    "\n",
    "\n",
    "The functions below are part of the Numpy library and can be used individually or in combination to perform data analysis\n",
    "in python.\n",
    "\n",
    "- function 1 : np.linspace()\n",
    "- function 2 : np.meshgrid()\n",
    "- function 3 : np.lingalg.eig()\n",
    "- function 4 : np.put_along_axis()\n",
    "- function 5 : np.nonzero()\n",
    "\n",
    "The recommended way to run this notebook is to click the \"Run\" button at the top of this page, and select \"Run on Binder\". This will run the notebook on mybinder.org, a free online service for running Jupyter notebooks."
   ]
  },
  {
   "cell_type": "code",
   "execution_count": 1,
   "metadata": {},
   "outputs": [],
   "source": [
    "!pip install jovian --upgrade -q"
   ]
  },
  {
   "cell_type": "code",
   "execution_count": 2,
   "metadata": {},
   "outputs": [],
   "source": [
    "import jovian"
   ]
  },
  {
   "cell_type": "code",
   "execution_count": null,
   "metadata": {},
   "outputs": [
    {
     "data": {
      "application/javascript": [
       "window.require && require([\"base/js/namespace\"],function(Jupyter){Jupyter.notebook.save_checkpoint()})"
      ],
      "text/plain": [
       "<IPython.core.display.Javascript object>"
      ]
     },
     "metadata": {},
     "output_type": "display_data"
    },
    {
     "name": "stdout",
     "output_type": "stream",
     "text": [
      "[jovian] Attempting to save notebook..\u001b[0m\n"
     ]
    }
   ],
   "source": [
    "jovian.commit(project='numpy-array-operations')"
   ]
  },
  {
   "cell_type": "markdown",
   "metadata": {},
   "source": [
    "Let's begin by importing Numpy and listing out the functions covered in this notebook."
   ]
  },
  {
   "cell_type": "code",
   "execution_count": null,
   "metadata": {},
   "outputs": [],
   "source": [
    "import numpy as np"
   ]
  },
  {
   "cell_type": "code",
   "execution_count": null,
   "metadata": {},
   "outputs": [],
   "source": [
    "# List of functions explained \n",
    "'''\n",
    "function1 = np.linspace()\n",
    "\n",
    "function2 = ???\n",
    "function3 = ???\n",
    "function4 = ???\n",
    "function5 = ???\n",
    "'''"
   ]
  },
  {
   "cell_type": "markdown",
   "metadata": {},
   "source": [
    "## Function 1 - np.linspace() \n",
    "\n",
    "The first function on this list creates an array of evenly spaced samples between a designated stop and end point. It also takes a \"num\" field which designates the number of samples required.\n",
    "\n",
    "General format: np.linspace(start, end, num)"
   ]
  },
  {
   "cell_type": "code",
   "execution_count": null,
   "metadata": {},
   "outputs": [],
   "source": [
    "# Example 1\n",
    "# We will create an array that collects 5 samples between 1 and 5 using the np.linspace() function \n",
    "\n",
    "arr1 = np.linspace(1,5,5)\n",
    "\n",
    "# To create a two dimensional array we can use the following general format.\n",
    "# linspace((start1,start2),(end1, end2), num)\n",
    "\n",
    "arr2 = np.linspace((1,2),(10,20),10)\n",
    "\n",
    "print('arr1: ')\n",
    "print(arr1)\n",
    "print('arr2: ')\n",
    "print(arr2)"
   ]
  },
  {
   "cell_type": "markdown",
   "metadata": {},
   "source": [
    "In arr2 the first column represents start1 (1) to end1 (10) and the second column is start2 (2) to end2(20).\n",
    "\n",
    "The linspace function is similar to the arrange function which creates an array using a given start, stop and interval amount. The difference with the linspace function is you do not provide an interval amount but a number of evenly seperated samples between two precise points."
   ]
  },
  {
   "cell_type": "code",
   "execution_count": null,
   "metadata": {},
   "outputs": [],
   "source": [
    "# Example 2 - working\n",
    "#We will create an array that collects 5 samples between 1 and 4 but with data type set to float.\n",
    "\n",
    "arr3 = np.linspace(1,4,5, dtype=float)\n",
    "\n",
    "#The function has another optional parameter called endpoint which is automatically set to True.\n",
    "#If we change it to False it will find parameters up to but not including the end value provided.\n",
    "\n",
    "arr4 = np.linspace(1,4,5, endpoint=False, dtype=float)\n",
    "\n",
    "print('arr3: ')\n",
    "print(arr3)\n",
    "print('arr4: ')\n",
    "print(arr4)"
   ]
  },
  {
   "cell_type": "markdown",
   "metadata": {},
   "source": [
    "Notice that arr3 and arr4 do not generate the same sample values as arr3 includes the endpoint and arr4 does not."
   ]
  },
  {
   "cell_type": "code",
   "execution_count": null,
   "metadata": {},
   "outputs": [],
   "source": [
    "# Example 3 - breaking \n",
    "\n",
    "arr5 = np.linspace((1,2,3),(10,20),10)\n",
    "\n",
    "print(arr5)"
   ]
  },
  {
   "cell_type": "markdown",
   "metadata": {},
   "source": [
    "The above creates an error since we attempted to create a three dimensional array without a third end value. To fix this we would need to add another value in the second parameter (10,20,X)."
   ]
  },
  {
   "cell_type": "markdown",
   "metadata": {},
   "source": [
    "This function can be used collaboratively with the arrange function. In certain cases where the interval between values in an array is highly important the arrange function would be better. When the endpoint is more important, the linspace funciton makes more sense."
   ]
  },
  {
   "cell_type": "code",
   "execution_count": null,
   "metadata": {},
   "outputs": [],
   "source": [
    "jovian.commit()"
   ]
  },
  {
   "cell_type": "markdown",
   "metadata": {},
   "source": [
    "## Function 2 - np.meshgrid()\n",
    "\n",
    "The numpy meshgrid() function will convert vectors into matrices (or grids). It does this by default using cartesian indexing with an x and y 'axis'. The function takes the data that is given and converts it to a grid with the 'x' values across the columns (x-axis) and a second grid with the 'y' values across the rows (y-axis)."
   ]
  },
  {
   "cell_type": "code",
   "execution_count": null,
   "metadata": {},
   "outputs": [],
   "source": [
    "# Example 1 - working\n",
    "\n",
    "# two one-dimensional arrays\n",
    "\n",
    "x = np.array([1,2,3,4])\n",
    "y = np.array([10,20,30,40,50])\n",
    "\n",
    "x_1, y_1 = np.meshgrid(x,y)\n",
    "\n",
    "print('x_1:')\n",
    "print(x_1)\n",
    "print('y_1:')\n",
    "print(y_1)"
   ]
  },
  {
   "cell_type": "markdown",
   "metadata": {},
   "source": [
    "For x_1 and y_1 the grid is a 4x5 ('x'x'y') and a 5x4 ('y'x'x')"
   ]
  },
  {
   "cell_type": "code",
   "execution_count": null,
   "metadata": {},
   "outputs": [],
   "source": [
    "# Example 2 - working\n",
    "# Using 3 arrays to create 3 grids\n",
    "\n",
    "a = np.array([1,2,3])\n",
    "b = np.array([4,3,7])\n",
    "c = np.array([5,6,7])\n",
    "\n",
    "xa, xb, xc = np.meshgrid(a,b,c)\n",
    "\n",
    "print('xa:')\n",
    "print(xa)\n",
    "print('xb:')\n",
    "print(xb)\n",
    "print('xc:')\n",
    "print(xc)"
   ]
  },
  {
   "cell_type": "markdown",
   "metadata": {},
   "source": [
    "For n number of arrays the meshgrid() function will generate n number of corresponding grids."
   ]
  },
  {
   "cell_type": "code",
   "execution_count": null,
   "metadata": {},
   "outputs": [],
   "source": [
    "# Example 3 - breaking \n",
    "\n",
    "#****THE BELOW WILL TAKE FOREVER TO RUN****\n",
    "\n",
    "x2 = np.linspace(10,100,9999999)\n",
    "\n",
    "y2 = np.array([10,20,30,40,50])\n",
    "\n",
    "x_2, y_2 = np.meshgrid(x2,y2)\n",
    "\n",
    "print('x_2:')\n",
    "print(x_2)\n",
    "print('y_2:')\n",
    "print(y_2)"
   ]
  },
  {
   "cell_type": "markdown",
   "metadata": {},
   "source": [
    "The function runs into a memory error here as it tries to run about 2GBs of memory to create the grids. The solution to this would be to add the sparse parameter (sparse=True) and cut this down to a fraction of the memory but only display one column or row for each grid."
   ]
  },
  {
   "cell_type": "markdown",
   "metadata": {},
   "source": [
    "Numpy's meshgrid() provides a quick and easy way to display data in a grid format with a lot of flexibility. There are many practical uses for evaluating functions on a grid and plotting the results."
   ]
  },
  {
   "cell_type": "code",
   "execution_count": null,
   "metadata": {},
   "outputs": [],
   "source": [
    "jovian.commit()"
   ]
  },
  {
   "cell_type": "markdown",
   "metadata": {},
   "source": [
    "## Function 3 - linalg.eig()\n",
    "\n",
    "The linalg.eig() function takes a square array (1x1, 2x2, 3x3, etc.) for input and computes the eigenvalues and eigenvectors. the "
   ]
  },
  {
   "cell_type": "code",
   "execution_count": null,
   "metadata": {},
   "outputs": [],
   "source": [
    "# Example 1 - working\n",
    "\n",
    "# Create a square array to use in the fuction\n",
    "\n",
    "arr1 = np.array([[1,2,3],\n",
    "        [3,4,6],\n",
    "        [5,8,9]])\n",
    "    \n",
    "np.linalg.eig(arr1)"
   ]
  },
  {
   "cell_type": "markdown",
   "metadata": {},
   "source": [
    "The function computes first an array with the eigenvalues of the 3 rows in the array that was given. Next it computes the eigenvectors for the given."
   ]
  },
  {
   "cell_type": "code",
   "execution_count": null,
   "metadata": {},
   "outputs": [],
   "source": [
    "# Example 2 - working\n",
    "\n",
    "# Using the identity matrix to verify this\n",
    "\n",
    "arr2 = np.array([[1,0,0],\n",
    "               [0,1,0],\n",
    "               [0,0,1]])\n",
    "\n",
    "np.linalg.eig(arr2)"
   ]
  },
  {
   "cell_type": "markdown",
   "metadata": {},
   "source": [
    "The identity matrix has eigenvalues of 1,1,1 and shows the same matrix for it's eigenvectors as expected."
   ]
  },
  {
   "cell_type": "code",
   "execution_count": null,
   "metadata": {},
   "outputs": [],
   "source": [
    "# Example 3 - breaking (to illustrate when it breaks)\n",
    "\n",
    "arr3 = np.array([[1,2,3],\n",
    "        [2,8,14],\n",
    "        [1,5,7],\n",
    "       [ 3,9,27]])\n",
    "\n",
    "np.linalg.eig(arr3)\n"
   ]
  },
  {
   "cell_type": "markdown",
   "metadata": {},
   "source": [
    "The arr3 that we created cannot be used as it has a 3x4 shape and must be a squre to be used in the eig() function. We must remove a row to compute this."
   ]
  },
  {
   "cell_type": "markdown",
   "metadata": {},
   "source": [
    "Eigenvalues and eigenvectors are complicated to solve but with this function the process is greatly simplified. These values can be applied in many linear algebra cases to create alternative solutions and simplify data sets by a scalar."
   ]
  },
  {
   "cell_type": "code",
   "execution_count": null,
   "metadata": {},
   "outputs": [],
   "source": [
    "jovian.commit()"
   ]
  },
  {
   "cell_type": "markdown",
   "metadata": {},
   "source": [
    "## Function 4 - put_along_axis()\n",
    "\n",
    "The numpy put_along_axis() function will allow you to replace values in an array at precise axis points.\n",
    "\n",
    "General format: put_along_axis(destination_array, indices_to_replace, replace_value, axis_to_replace_from)"
   ]
  },
  {
   "cell_type": "code",
   "execution_count": null,
   "metadata": {},
   "outputs": [],
   "source": [
    "# Example 1 - working\n",
    "# We will create an array 'x' with three dimensions.\n",
    "# Using the numpy put_along_axis() function, we will replace the values in x at the index values 0 for the 1st row, \n",
    "# 1 for the 2nd row and 2 for the 3rd row, all with the value 99.\n",
    "\n",
    "import numpy as np\n",
    "\n",
    "x = np.array([[10,20,30],[30,40,50],[50,60,70]])\n",
    "\n",
    "print('Before:')\n",
    "print(x)\n",
    "\n",
    "np.put_along_axis(x, np.array([[0],[1],[2]]), 99, axis = 1)\n",
    "\n",
    "print('After:')\n",
    "print(x)"
   ]
  },
  {
   "cell_type": "markdown",
   "metadata": {},
   "source": [
    "The (3x3) array x began without the value 99 and had it inserted on all 3 rows."
   ]
  },
  {
   "cell_type": "code",
   "execution_count": null,
   "metadata": {},
   "outputs": [],
   "source": [
    "# Example 2 - working\n",
    "# Now, we will create arrays a, index and replace. Using the same function, we will replace values of 'a' at the index values\n",
    "# from 'index', with the values from 'replace'.\n",
    "\n",
    "a = np.array([[1,2,3,4],[3,4,5,5],[1,5,6,7]])\n",
    "\n",
    "print('Before:')\n",
    "print(a)\n",
    "\n",
    "index_arr = np.array([0,1,0], dtype=int)\n",
    "replace_arr = np.array([100,99,101])\n",
    "\n",
    "np.put_along_axis(a, index_arr[:, None], replace_arr[:, None], axis = 1)\n",
    "\n",
    "print('After:')\n",
    "print(a)"
   ]
  },
  {
   "cell_type": "markdown",
   "metadata": {},
   "source": [
    "The 'replace_arr' values were inserted in the 3 lines of 'a' at the 'index_arr' points."
   ]
  },
  {
   "cell_type": "code",
   "execution_count": null,
   "metadata": {},
   "outputs": [],
   "source": [
    "# Example 3 - breaking (to illustrate when it breaks)\n",
    "\n",
    "w = np.array([[1,1,3],[2,2,2],[3,3,3]])\n",
    "\n",
    "print('Before:')\n",
    "print(w)\n",
    "\n",
    "index_arr = np.array([0,0,0,0])\n",
    "replace_arr = np.array([100,99,101])\n",
    "\n",
    "np.put_along_axis(w, index_arr[:, None], replace_arr[:, None], axis = 1)\n",
    "\n",
    "print('After:')\n",
    "print(w)"
   ]
  },
  {
   "cell_type": "markdown",
   "metadata": {},
   "source": [
    "In this example we are trying to replace four different indexes from the array 'w' but there are only 3 rows to iterate through in the array. We would have to remove one value from the 'index' array or add another row to 'w'."
   ]
  },
  {
   "cell_type": "markdown",
   "metadata": {},
   "source": [
    "This function has many uses for correcting data in an array and has the flexibility to do it on a large scale."
   ]
  },
  {
   "cell_type": "code",
   "execution_count": null,
   "metadata": {},
   "outputs": [],
   "source": [
    "jovian.commit()"
   ]
  },
  {
   "cell_type": "markdown",
   "metadata": {},
   "source": [
    "## Function 5 - nonzero()\n",
    "\n",
    "This function simply returns the index of non-zero elements in an array but there are many interesting applications.\n",
    "\n",
    "General format: nonzero(array)"
   ]
  },
  {
   "cell_type": "code",
   "execution_count": null,
   "metadata": {},
   "outputs": [],
   "source": [
    "# Example 1 - working\n",
    "# Getting indices of non-zero elements in basic 2x3 array\n",
    "\n",
    "import numpy as np\n",
    "\n",
    "a = np.array([[0,2,3],[4,0,6]])\n",
    "\n",
    "np.nonzero(a)"
   ]
  },
  {
   "cell_type": "markdown",
   "metadata": {},
   "source": [
    "The function returns two arrays representing both co-ordinates of the non-zero values.\n",
    "(0,1) = 2\n",
    "(0,2) = 3\n",
    "(1,0) = 4\n",
    "(1,2) = 6"
   ]
  },
  {
   "cell_type": "code",
   "execution_count": null,
   "metadata": {},
   "outputs": [],
   "source": [
    "# Example 2 - working\n",
    "# Getting just non-zero elements from an array\n",
    "\n",
    "b = np.array([1,np.NaN, 0, 2, 0, 3, 4])\n",
    "print('Original:')\n",
    "print(b)\n",
    "\n",
    "print('Non-zero:')\n",
    "print(b[np.nonzero(b)])"
   ]
  },
  {
   "cell_type": "markdown",
   "metadata": {},
   "source": [
    "The function returns the values that are not 0 in the array including the null NaN value."
   ]
  },
  {
   "cell_type": "code",
   "execution_count": null,
   "metadata": {},
   "outputs": [],
   "source": [
    "# Example 3 - breaking (to illustrate when it breaks)\n",
    "\n",
    "c = np.array([[0,0,0,0],[1,2,3],[0,5]])\n",
    "print(c)\n",
    "print(c[np.nonzero(c)])"
   ]
  },
  {
   "cell_type": "markdown",
   "metadata": {},
   "source": [
    "Although the function does run this code and provides an output, there is a warning due to the varying lengths of rows in the array. To fix this, we would even each line out to have 4 elements."
   ]
  },
  {
   "cell_type": "markdown",
   "metadata": {},
   "source": [
    "This function can be used in many different ways including correction and analysis of values in a datset."
   ]
  },
  {
   "cell_type": "code",
   "execution_count": null,
   "metadata": {},
   "outputs": [],
   "source": [
    "jovian.commit()"
   ]
  },
  {
   "cell_type": "markdown",
   "metadata": {},
   "source": [
    "## Conclusion\n",
    "\n",
    "These functions have the potential to simplify and/or correct data to further analyze and make statistic based decisions or solve complicated problems. I encourage anyone interested in data science to familiarize themselves with these 5 functions as they will surely come up again in your career!"
   ]
  },
  {
   "cell_type": "markdown",
   "metadata": {},
   "source": [
    "## Reference Links\n",
    "Links to your references and other interesting articles about Numpy arrays:\n",
    "* Numpy official tutorial : https://numpy.org/doc/stable/user/quickstart.html\n",
    "* https://numpy.org/doc/stable/reference/generated/numpy.nonzero.html#numpy.nonzero\n",
    "* https://docs.w3cub.com/numpy~1.17/generated/numpy.put_along_axis/\n",
    "* https://numpy.org/doc/stable/reference/generated/numpy.meshgrid.html\n",
    "* https://www.geeksforgeeks.org/numpy-meshgrid-function/\n",
    "* https://www.sharpsightlabs.com/blog/numpy-linspace/"
   ]
  },
  {
   "cell_type": "code",
   "execution_count": null,
   "metadata": {},
   "outputs": [],
   "source": [
    "jovian.commit()"
   ]
  },
  {
   "cell_type": "code",
   "execution_count": null,
   "metadata": {},
   "outputs": [],
   "source": []
  }
 ],
 "metadata": {
  "kernelspec": {
   "display_name": "Python 3",
   "language": "python",
   "name": "python3"
  },
  "language_info": {
   "codemirror_mode": {
    "name": "ipython",
    "version": 3
   },
   "file_extension": ".py",
   "mimetype": "text/x-python",
   "name": "python",
   "nbconvert_exporter": "python",
   "pygments_lexer": "ipython3",
   "version": "3.8.5"
  }
 },
 "nbformat": 4,
 "nbformat_minor": 4
}
